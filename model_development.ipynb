{
  "cells": [
    {
      "cell_type": "markdown",
      "metadata": {
        "id": "view-in-github",
        "colab_type": "text"
      },
      "source": [
        "<a href=\"https://colab.research.google.com/github/donggrant/sign-language-interface/blob/master/model_development.ipynb\" target=\"_parent\"><img src=\"https://colab.research.google.com/assets/colab-badge.svg\" alt=\"Open In Colab\"/></a>"
      ]
    },
    {
      "cell_type": "code",
      "source": [
        "import numpy as np # linear algebra\n",
        "import pandas as pd # data processing, CSV file I/O (e.g. pd.read_csv)\n",
        "import matplotlib.pyplot as plt\n",
        "import seaborn as sns\n",
        "import random"
      ],
      "metadata": {
        "id": "X2nG_rFE6JwG"
      },
      "execution_count": 3,
      "outputs": []
    },
    {
      "cell_type": "code",
      "execution_count": 4,
      "metadata": {
        "colab": {
          "base_uri": "https://localhost:8080/"
        },
        "id": "wPNbW8ohwQxK",
        "outputId": "b3137ba9-c633-4ade-832c-747eb68c2f75"
      },
      "outputs": [
        {
          "output_type": "stream",
          "name": "stdout",
          "text": [
            "(27455, 785)\n",
            "(7172, 785)\n"
          ]
        }
      ],
      "source": [
        "# Loading training and testing data\n",
        "\n",
        "train = pd.read_csv(\"https://raw.githubusercontent.com/donggrant/sign-language-interface/master/sign_mnist_train.csv\")\n",
        "test = pd.read_csv(\"https://raw.githubusercontent.com/donggrant/sign-language-interface/master/sign_mnist_test.csv\")\n",
        "print(train.shape)\n",
        "print(test.shape)"
      ]
    },
    {
      "cell_type": "code",
      "source": [
        "i = random.randint(1,27455)\n",
        "i = 49\n",
        "classes = {'A', 'B', 'C', 'D', 'E', 'F', 'G', 'H', 'I', 'J', 'K', 'L', 'M', 'N', 'O', 'P', 'Q', 'R', 'S', 'T', 'U', 'V', 'W', 'X', 'Y' }\n",
        "for i in range(27455):\n",
        "  plt.imshow(train_set[i,1:].reshape((28,28))) \n",
        "  label_index = train[\"label\"][i]\n",
        "  if class_names[label_index] == \"H\":\n",
        "    plt.title(f\"{class_names[label_index]}\")\n",
        "    plt.axis('off')\n",
        "    classes.remove(class_names[label_index])\n",
        "    break"
      ],
      "metadata": {
        "colab": {
          "base_uri": "https://localhost:8080/",
          "height": 264
        },
        "id": "JTL5fNTgz40r",
        "outputId": "bde9fe94-b9b1-41b5-b5dd-88925fe23af6"
      },
      "execution_count": 68,
      "outputs": [
        {
          "output_type": "display_data",
          "data": {
            "text/plain": [
              "<Figure size 432x288 with 1 Axes>"
            ],
            "image/png": "[encoded data removed]"
          },
          "metadata": {
            "needs_background": "light"
          }
        }
      ]
    },
    {
      "cell_type": "code",
      "execution_count": 6,
      "metadata": {
        "colab": {
          "base_uri": "https://localhost:8080/",
          "height": 281
        },
        "id": "zbSql7PfwUSf",
        "outputId": "6d841b71-0a6e-462f-b0e2-2eae0a2b8200"
      },
      "outputs": [
        {
          "output_type": "execute_result",
          "data": {
            "text/plain": [
              "(-0.5, 27.5, 27.5, -0.5)"
            ]
          },
          "metadata": {},
          "execution_count": 6
        },
        {
          "output_type": "display_data",
          "data": {
            "text/plain": [
              "<Figure size 432x288 with 1 Axes>"
            ],
            "image/png": "[encoded data removed]"
          },
          "metadata": {
            "needs_background": "light"
          }
        }
      ],
      "source": [
        "train_set = np.array(train, dtype = 'float32')\n",
        "test_set = np.array(test, dtype='float32')\n",
        "class_names = ['A', 'B', 'C', 'D', 'E', 'F', 'G', 'H', 'I', 'J', 'K', 'L', 'M', 'N', 'O', 'P', 'Q', 'R', 'S', 'T', 'U', 'V', 'W', 'X', 'Y' ]\n",
        "\n",
        "#See a random image for class label verification\n",
        "i = random.randint(1,27455)\n",
        "plt.imshow(train_set[i,1:].reshape((28,28))) \n",
        "label_index = train[\"label\"][i]\n",
        "plt.title(f\"{class_names[label_index]}\")\n",
        "plt.axis('off')"
      ]
    },
    {
      "cell_type": "code",
      "source": [
        "X_train = train_set[:, 1:] / 255\n",
        "y_train = train_set[:, 0]\n",
        "\n",
        "X_test = test_set[:, 1:] / 255\n",
        "y_test = test_set[:,0]\n",
        "\n",
        "from sklearn.model_selection import train_test_split\n",
        "X_train, X_validate, y_train, y_validate = train_test_split(X_train, y_train, test_size = 0.2, random_state = 12345)\n",
        "\n",
        "print(X_train.shape)\n",
        "print(y_train.shape)"
      ],
      "metadata": {
        "id": "v98gjOKo6m-D"
      },
      "execution_count": null,
      "outputs": []
    },
    {
      "cell_type": "code",
      "source": [
        "X_train = X_train.reshape(X_train.shape[0], *(28, 28, 1))\n",
        "X_test = X_test.reshape(X_test.shape[0], *(28, 28, 1))\n",
        "X_validate = X_validate.reshape(X_validate.shape[0], *(28, 28, 1))\n",
        "\n",
        "print(X_train.shape)\n",
        "print(y_train.shape)\n",
        "print(X_validate.shape)"
      ],
      "metadata": {
        "id": "T4tyC-cM6qXD"
      },
      "execution_count": null,
      "outputs": []
    },
    {
      "cell_type": "code",
      "execution_count": null,
      "metadata": {
        "id": "aGLfLVxZo3Zf"
      },
      "outputs": [],
      "source": [
        "import keras\n",
        "from keras.models import Sequential\n",
        "from keras.layers import Conv2D, MaxPooling2D, Dense, Flatten, Dropout\n",
        "from keras.callbacks import TensorBoard\n",
        "\n",
        "#Defining the Convolutional Neural Network\n",
        "cnn_model = Sequential()\n",
        "\n",
        "cnn_model.add(Conv2D(32, (3, 3), input_shape = (28,28,1), activation='relu'))\n",
        "cnn_model.add(MaxPooling2D(pool_size = (2, 2)))\n",
        "cnn_model.add(Dropout(0.25))\n",
        "\n",
        "cnn_model.add(Conv2D(64, (3, 3), input_shape = (28,28,1), activation='relu'))\n",
        "cnn_model.add(MaxPooling2D(pool_size = (2, 2)))\n",
        "cnn_model.add(Dropout(0.25))\n",
        "\n",
        "cnn_model.add(Conv2D(128, (3, 3), input_shape = (28,28,1), activation='relu'))\n",
        "cnn_model.add(MaxPooling2D(pool_size = (2, 2)))\n",
        "cnn_model.add(Dropout(0.25))\n",
        "\n",
        "cnn_model.add(Flatten())\n",
        "\n",
        "cnn_model.add(Dense(units = 512, activation = 'relu'))\n",
        "cnn_model.add(Dropout(0.25))\n",
        "cnn_model.add(Dense(units = 25, activation = 'softmax'))"
      ]
    },
    {
      "cell_type": "code",
      "execution_count": null,
      "metadata": {
        "id": "BmcZfNObqZsQ"
      },
      "outputs": [],
      "source": [
        "#compile model using accuracy to measure model performance\n",
        "cnn_model.compile(loss ='sparse_categorical_crossentropy', optimizer='adam' ,metrics =['accuracy'])"
      ]
    },
    {
      "cell_type": "code",
      "execution_count": null,
      "metadata": {
        "id": "v82-ImKKqjhA"
      },
      "outputs": [],
      "source": [
        "#train the model\n",
        "history = cnn_model.fit(X_train, y_train, batch_size = 512, epochs = 50, verbose = 1, validation_data = (X_validate, y_validate))"
      ]
    },
    {
      "cell_type": "code",
      "execution_count": null,
      "metadata": {
        "id": "7BfoS4TEqlbl"
      },
      "outputs": [],
      "source": [
        "#Visualizing the training performance\n",
        "plt.figure(figsize=(12, 8))\n",
        "\n",
        "plt.subplot(2, 2, 1)\n",
        "plt.plot(history.history['loss'], label='Loss')\n",
        "plt.plot(history.history['val_loss'], label='val_Loss')\n",
        "plt.legend()\n",
        "plt.grid()\n",
        "plt.title('Loss evolution')\n",
        "\n",
        "plt.subplot(2, 2, 2)\n",
        "plt.plot(history.history['accuracy'], label='accuracy')\n",
        "plt.plot(history.history['val_accuracy'], label='val_accuracy')\n",
        "plt.legend()\n",
        "plt.grid()\n",
        "plt.title('Accuracy evolution')"
      ]
    },
    {
      "cell_type": "code",
      "source": [
        "#Predictions for the test data\n",
        "predict_x = cnn_model.predict(X_test) \n",
        "predicted_classes = np.argmax(predict_x,axis=1)"
      ],
      "metadata": {
        "id": "5BTs783F29zb"
      },
      "execution_count": null,
      "outputs": []
    },
    {
      "cell_type": "code",
      "execution_count": null,
      "metadata": {
        "id": "J1ej-vMDrIwD"
      },
      "outputs": [],
      "source": [
        "from sklearn.metrics import accuracy_score\n",
        "\n",
        "#Visualize predictions\n",
        "L = 5\n",
        "W = 5\n",
        "\n",
        "fig, axes = plt.subplots(L, W, figsize = (12,12))\n",
        "axes = axes.ravel()\n",
        "\n",
        "for i in np.arange(0, L * W):  \n",
        "    axes[i].imshow(X_test[i].reshape(28,28))\n",
        "    axes[i].set_title(f\"Prediction Class = {predicted_classes[i]:0.1f}\\n True Class = {y_test[i]:0.1f}\")\n",
        "    axes[i].axis('off')\n",
        "plt.subplots_adjust(wspace=0.5)"
      ]
    },
    {
      "cell_type": "code",
      "execution_count": null,
      "metadata": {
        "id": "XE8IDaqnrMtB"
      },
      "outputs": [],
      "source": [
        "# confusion matrix\n",
        "\n",
        "from sklearn.metrics import confusion_matrix\n",
        "from sklearn import metrics\n",
        "cm = metrics.confusion_matrix(y_test, predicted_classes)\n",
        "\n",
        "def plot_confusion_matrix(y_true, y_pred, classes,\n",
        "                          normalize=False,\n",
        "                          title=None,\n",
        "                          cmap=plt.cm.Blues):\n",
        "    if not title:\n",
        "        if normalize:\n",
        "            title = 'Normalized confusion matrix'\n",
        "        else:\n",
        "            title = 'Confusion matrix, without normalization'\n",
        "\n",
        "    # Computing confusion matrix\n",
        "    cm = confusion_matrix(y_true, y_pred)\n",
        "    if normalize:\n",
        "        cm = cm.astype('float') / cm.sum(axis=1)[:, np.newaxis]\n",
        "        print(\"Normalized confusion matrix\")\n",
        "    else:\n",
        "        print('Confusion matrix, without normalization')\n",
        "\n",
        "# Visualizing\n",
        "    fig, ax = plt.subplots(figsize=(10, 10))\n",
        "    im = ax.imshow(cm, interpolation='nearest', cmap=cmap)\n",
        "    ax.figure.colorbar(im, ax=ax)\n",
        "    # We want to show all ticks...\n",
        "    ax.set(xticks=np.arange(cm.shape[1]),\n",
        "           yticks=np.arange(cm.shape[0]),\n",
        "           xticklabels=classes, yticklabels=classes,\n",
        "           title=title,\n",
        "           ylabel='True label',\n",
        "           xlabel='Predicted label')\n",
        "\n",
        "   # Rotating the tick labels and setting their alignment.\n",
        "    plt.setp(ax.get_xticklabels(), rotation=45, ha=\"right\",\n",
        "             rotation_mode=\"anchor\")\n",
        "    # Looping over data dimensions and create text annotations.\n",
        "    fmt = '.2f' if normalize else 'd'\n",
        "    thresh = cm.max() / 2.\n",
        "    for i in range(cm.shape[0]):\n",
        "        for j in range(cm.shape[1]):\n",
        "            ax.text(j, i, format(cm[i, j], fmt),\n",
        "                    ha=\"center\", va=\"center\",\n",
        "                    color=\"white\" if cm[i, j] > thresh else \"black\")\n",
        "    fig.tight_layout()\n",
        "    return ax\n",
        "np.set_printoptions(precision=2)\n",
        "\n",
        "plt.figure(figsize=(20,20))\n",
        "plot_confusion_matrix(y_test, predicted_classes, classes = class_names, title='Non-Normalized Confusion matrix')\n",
        "plt.show()"
      ]
    },
    {
      "cell_type": "code",
      "source": [
        "#Classification accuracy\n",
        "from sklearn.metrics import accuracy_score\n",
        "acc_score = accuracy_score(y_test, predicted_classes)\n",
        "print('Accuracy Score = ',acc_score)"
      ],
      "metadata": {
        "id": "KiMy-FCzlJr1"
      },
      "execution_count": null,
      "outputs": []
    },
    {
      "cell_type": "markdown",
      "source": [
        "## Web Cam Data"
      ],
      "metadata": {
        "id": "1Qbx97dRKDlr"
      }
    },
    {
      "cell_type": "code",
      "source": [
        "from IPython.display import display, Javascript\n",
        "from google.colab.output import eval_js\n",
        "from base64 import b64decode\n",
        "\n",
        "def take_photo(filename='photo.jpg', quality=0.8):\n",
        "  js = Javascript('''\n",
        "    async function takePhoto(quality) {\n",
        "      const div = document.createElement('div');\n",
        "      const capture = document.createElement('button');\n",
        "      capture.textContent = 'Capture';\n",
        "      div.appendChild(capture);\n",
        "\n",
        "      const video = document.createElement('video');\n",
        "      video.style.display = 'block';\n",
        "      const stream = await navigator.mediaDevices.getUserMedia({video: true});\n",
        "\n",
        "      document.body.appendChild(div);\n",
        "      div.appendChild(video);\n",
        "      video.srcObject = stream;\n",
        "      await video.play();\n",
        "\n",
        "      // Resize the output to fit the video element.\n",
        "      google.colab.output.setIframeHeight(document.documentElement.scrollHeight, true);\n",
        "\n",
        "      // Wait for Capture to be clicked.\n",
        "      await new Promise((resolve) => capture.onclick = resolve);\n",
        "\n",
        "      const canvas = document.createElement('canvas');\n",
        "      canvas.width = video.videoWidth;\n",
        "      canvas.height = video.videoHeight;\n",
        "      canvas.getContext('2d').drawImage(video, 0, 0);\n",
        "      stream.getVideoTracks()[0].stop();\n",
        "      div.remove();\n",
        "      return canvas.toDataURL('image/jpeg', quality);\n",
        "    }\n",
        "    ''')\n",
        "  display(js)\n",
        "  data = eval_js('takePhoto({})'.format(quality))\n",
        "  binary = b64decode(data.split(',')[1])\n",
        "  with open(filename, 'wb') as f:\n",
        "    f.write(binary)\n",
        "  return filename"
      ],
      "metadata": {
        "id": "HtdfBZBILbGZ"
      },
      "execution_count": null,
      "outputs": []
    },
    {
      "cell_type": "code",
      "source": [
        "from IPython.display import Image\n",
        "\n",
        "try:\n",
        "  filename = take_photo()\n",
        "  print('Saved to {}'.format(filename))\n",
        "  \n",
        "  # Show the image which was just taken.\n",
        "  display(Image(filename))\n",
        "except Exception as err:\n",
        "  # Errors will be thrown if the user does not have a webcam or if they do not\n",
        "  # grant the page permission to access it.\n",
        "  print(str(err))\n",
        "  \n",
        "from PIL import Image\n",
        "# Preprocess image for model\n",
        "img = Image.open(filename)\n",
        "img = img.resize((28, 28))\n",
        "img = np.asarray(img)\n",
        "img = img[:,:,0] # convert to grayscale\n",
        "img = np.reshape(img, (28, 28))\n",
        "img = np.array(img.flatten())\n",
        "img = img.reshape(1, 28, 28, 1)"
      ],
      "metadata": {
        "id": "2ckCWNtlLbGa"
      },
      "execution_count": null,
      "outputs": []
    },
    {
      "cell_type": "code",
      "source": [
        "output = cnn_model.predict(img)[0]\n",
        "plt.imshow(img.reshape(28,28))\n",
        "plt.show()\n",
        "print(\"Predicted as:\", class_names[list(output).index(1)])"
      ],
      "metadata": {
        "id": "GUp6LsxP8kg5"
      },
      "execution_count": null,
      "outputs": []
    },
    {
      "cell_type": "code",
      "source": [
        "# Reference\n",
        "from IPython.display import Image\n",
        "Image(\"https://raw.githubusercontent.com/donggrant/sign-language-interface/master/amer_sign2.png\")"
      ],
      "metadata": {
        "id": "vS_nTC4YB5Uj"
      },
      "execution_count": null,
      "outputs": []
    },
    {
      "cell_type": "markdown",
      "source": [
        "Saving the Model"
      ],
      "metadata": {
        "id": "MEsvbZfm7j1D"
      }
    },
    {
      "cell_type": "code",
      "source": [
        "# Save the entire model to a HDF5 file.\n",
        "# The '.h5' extension indicates that the model should be saved to HDF5.\n",
        "cnn_model.save('my_model.h5') "
      ],
      "metadata": {
        "id": "kmp6ZIGs7lIe"
      },
      "execution_count": null,
      "outputs": []
    },
    {
      "cell_type": "code",
      "source": [
        "import tensorflow as tf\n",
        "# Recreate the exact same model, including its weights and the optimizer\n",
        "new_model = tf.keras.models.load_model('my_model.h5')\n",
        "\n",
        "# Show the model architecture\n",
        "new_model.summary()"
      ],
      "metadata": {
        "id": "6iG52STb7vkC"
      },
      "execution_count": null,
      "outputs": []
    },
    {
      "cell_type": "code",
      "source": [
        ""
      ],
      "metadata": {
        "id": "TYwYvA6a7yrj"
      },
      "execution_count": null,
      "outputs": []
    }
  ],
  "metadata": {
    "accelerator": "GPU",
    "colab": {
      "name": "model_development.ipynb",
      "provenance": [],
      "collapsed_sections": [],
      "include_colab_link": true
    },
    "kernelspec": {
      "display_name": "Python 3",
      "name": "python3"
    },
    "language_info": {
      "name": "python"
    }
  },
  "nbformat": 4,
  "nbformat_minor": 0
}